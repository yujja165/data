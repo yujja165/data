{
  "nbformat": 4,
  "nbformat_minor": 0,
  "metadata": {
    "colab": {
      "provenance": []
    },
    "kernelspec": {
      "name": "python3",
      "display_name": "Python 3"
    },
    "language_info": {
      "name": "python"
    }
  },
  "cells": [
    {
      "cell_type": "code",
      "execution_count": null,
      "metadata": {
        "colab": {
          "base_uri": "https://localhost:8080/"
        },
        "id": "MJY2HuiecK_W",
        "outputId": "644adafd-89fd-47aa-a6f7-4904def6041f"
      },
      "outputs": [
        {
          "output_type": "stream",
          "name": "stdout",
          "text": [
            "Drive already mounted at /content/drive; to attempt to forcibly remount, call drive.mount(\"/content/drive\", force_remount=True).\n"
          ]
        }
      ],
      "source": [
        "from google.colab import drive\n",
        "drive.mount('/content/drive')"
      ]
    },
    {
      "cell_type": "code",
      "source": [
        "import zipfile\n",
        "\n",
        "path = '/content/drive/MyDrive/데사2/archive.zip'\n",
        "zip_object = zipfile.ZipFile(file=path, mode='r')\n",
        "zip_object.extractall('./')\n",
        "zip_object.close()"
      ],
      "metadata": {
        "id": "Fi9ucDJBgO5I"
      },
      "execution_count": null,
      "outputs": []
    },
    {
      "cell_type": "code",
      "source": [
        "import tensorflow as tf\n",
        "\n",
        "# tf.keras.preprocessing.image.load_img('/content/fer2013/train/Happy/100.jpg')"
      ],
      "metadata": {
        "id": "AMdOnnF1hUUQ"
      },
      "execution_count": null,
      "outputs": []
    },
    {
      "cell_type": "code",
      "source": [
        "import numpy as np\n",
        "\n",
        "# img = tf.keras.preprocessing.image.load_img('/content/fer2013/train/Neutral/100.jpg')\n",
        "# np.array(img).shape"
      ],
      "metadata": {
        "id": "rfbvPTI8hUf_"
      },
      "execution_count": null,
      "outputs": []
    },
    {
      "cell_type": "code",
      "source": [
        "from tensorflow.keras.preprocessing.image import ImageDataGenerator\n",
        "\n",
        "train_generator = ImageDataGenerator(rotation_range=10,  # Degree range for random rotations\n",
        "                                     zoom_range=0.2,  # Float or [lower, upper]. Range for random zoom. If a float, [lower, upper] = [1-zoom_range, 1+zoom_range]\n",
        "                                     horizontal_flip=True,  # Randomly flip inputs horizontally\n",
        "                                     rescale=1/255)  # Rescaling by 1/255 to normalize"
      ],
      "metadata": {
        "id": "rVl2ZICZheX2"
      },
      "execution_count": null,
      "outputs": []
    },
    {
      "cell_type": "code",
      "source": [
        "train_dataset = train_generator.flow_from_directory(directory='/content/train',\n",
        "                                                    target_size=(48, 48),  # Tuple of integers (height, width), defaults to (256, 256)\n",
        "                                                    class_mode='categorical',\n",
        "                                                    batch_size=16,  # Size of the batches of data (default: 32)\n",
        "                                                    shuffle=True,  # Whether to shuffle the data (default: True) If set to False, sorts the data in alphanumeric order\n",
        "                                                    seed=10)"
      ],
      "metadata": {
        "colab": {
          "base_uri": "https://localhost:8080/"
        },
        "id": "60VpsvOoheao",
        "outputId": "5a66a9fa-7375-41aa-edf8-13d92c113051"
      },
      "execution_count": null,
      "outputs": [
        {
          "output_type": "stream",
          "name": "stdout",
          "text": [
            "Found 28709 images belonging to 7 classes.\n"
          ]
        }
      ]
    },
    {
      "cell_type": "code",
      "source": [
        "train_dataset.classes"
      ],
      "metadata": {
        "colab": {
          "base_uri": "https://localhost:8080/"
        },
        "id": "uCVIsKYrheeC",
        "outputId": "d0f66b4f-3fca-47bf-a96e-63ed0ba609e9"
      },
      "execution_count": null,
      "outputs": [
        {
          "output_type": "execute_result",
          "data": {
            "text/plain": [
              "array([0, 0, 0, ..., 6, 6, 6], dtype=int32)"
            ]
          },
          "metadata": {},
          "execution_count": 10
        }
      ]
    },
    {
      "cell_type": "code",
      "source": [
        "train_dataset.class_indices"
      ],
      "metadata": {
        "colab": {
          "base_uri": "https://localhost:8080/"
        },
        "id": "2dGmagXOkYVT",
        "outputId": "92a1e309-6742-4aaa-8353-3d40d26749c7"
      },
      "execution_count": null,
      "outputs": [
        {
          "output_type": "execute_result",
          "data": {
            "text/plain": [
              "{'angry': 0,\n",
              " 'disgust': 1,\n",
              " 'fear': 2,\n",
              " 'happy': 3,\n",
              " 'neutral': 4,\n",
              " 'sad': 5,\n",
              " 'surprise': 6}"
            ]
          },
          "metadata": {},
          "execution_count": 11
        }
      ]
    },
    {
      "cell_type": "code",
      "source": [
        "np.unique(train_dataset.classes, return_counts=True)"
      ],
      "metadata": {
        "colab": {
          "base_uri": "https://localhost:8080/"
        },
        "id": "veHxZsxWkdsk",
        "outputId": "1c89056b-ea90-4645-951e-3d4275ed0056"
      },
      "execution_count": null,
      "outputs": [
        {
          "output_type": "execute_result",
          "data": {
            "text/plain": [
              "(array([0, 1, 2, 3, 4, 5, 6], dtype=int32),\n",
              " array([3995,  436, 4097, 7215, 4965, 4830, 3171]))"
            ]
          },
          "metadata": {},
          "execution_count": 12
        }
      ]
    },
    {
      "cell_type": "code",
      "source": [
        "test_generator = ImageDataGenerator(rescale=1/255)\n",
        "\n",
        "test_dataset = test_generator.flow_from_directory(directory='/content/test',\n",
        "                                                  target_size=(48, 48),\n",
        "                                                  class_mode='categorical',\n",
        "                                                  batch_size=1,\n",
        "                                                  shuffle=False,\n",
        "                                                  seed=10)\n"
      ],
      "metadata": {
        "colab": {
          "base_uri": "https://localhost:8080/"
        },
        "id": "eSRUzwWpkhqo",
        "outputId": "ad94df08-ef9d-4990-dfd5-824d4b51b23b"
      },
      "execution_count": null,
      "outputs": [
        {
          "output_type": "stream",
          "name": "stdout",
          "text": [
            "Found 7178 images belonging to 7 classes.\n"
          ]
        }
      ]
    },
    {
      "cell_type": "code",
      "source": [
        "\n",
        "from tensorflow.keras.models import Sequential\n",
        "from tensorflow.keras.layers import Dense, Dropout, Conv2D, MaxPooling2D, Flatten, BatchNormalization\n",
        "\n",
        "num_classes = 7\n",
        "num_detectors = 32\n",
        "width, height = 48, 48\n",
        "\n",
        "network = Sequential()\n",
        "\n",
        "network.add(Conv2D(filters=num_detectors, kernel_size=3, activation='relu', padding='same', input_shape=(width, height, 3)))\n",
        "network.add(BatchNormalization())\n",
        "network.add(Conv2D(filters=num_detectors, kernel_size=3, activation='relu', padding='same'))\n",
        "network.add(BatchNormalization())\n",
        "network.add(MaxPooling2D(pool_size=(2, 2)))\n",
        "network.add(Dropout(0.2))\n",
        "\n",
        "network.add(Conv2D(2*num_detectors, 3, activation='relu', padding='same'))\n",
        "network.add(BatchNormalization())\n",
        "network.add(Conv2D(2*num_detectors, 3, activation='relu', padding='same'))\n",
        "network.add(BatchNormalization())\n",
        "network.add(MaxPooling2D(pool_size=(2, 2)))\n",
        "network.add(Dropout(0.2))\n",
        "\n",
        "network.add(Conv2D(2*2*num_detectors, 3, activation='relu', padding='same'))\n",
        "network.add(BatchNormalization())\n",
        "network.add(Conv2D(2*2*num_detectors, 3, activation='relu', padding='same'))\n",
        "network.add(BatchNormalization())\n",
        "network.add(MaxPooling2D(pool_size=(2, 2)))\n",
        "network.add(Dropout(0.2))\n",
        "\n",
        "network.add(Conv2D(2*2*2*num_detectors, 3, activation='relu', padding='same'))\n",
        "network.add(BatchNormalization())\n",
        "network.add(Conv2D(2*2*2*num_detectors, 3, activation='relu', padding='same'))\n",
        "network.add(BatchNormalization())\n",
        "network.add(MaxPooling2D(pool_size=(2, 2)))\n",
        "network.add(Dropout(0.2))\n",
        "\n",
        "network.add(Flatten())\n",
        "\n",
        "network.add(Dense(2*2*num_detectors, activation='relu'))\n",
        "network.add(BatchNormalization())\n",
        "network.add(Dropout(0.2))\n",
        "\n",
        "network.add(Dense(2*num_detectors, activation='relu'))\n",
        "network.add(BatchNormalization())\n",
        "network.add(Dropout(0.2))\n",
        "\n",
        "network.add(Dense(num_classes, activation='softmax'))"
      ],
      "metadata": {
        "id": "SWemeeC8kjxG"
      },
      "execution_count": null,
      "outputs": []
    },
    {
      "cell_type": "code",
      "source": [
        "print(network.summary())"
      ],
      "metadata": {
        "colab": {
          "base_uri": "https://localhost:8080/"
        },
        "id": "g8dwMfDFk1Mb",
        "outputId": "48531028-031f-482e-9013-b48992aaca78"
      },
      "execution_count": null,
      "outputs": [
        {
          "output_type": "stream",
          "name": "stdout",
          "text": [
            "Model: \"sequential\"\n",
            "_________________________________________________________________\n",
            " Layer (type)                Output Shape              Param #   \n",
            "=================================================================\n",
            " conv2d (Conv2D)             (None, 48, 48, 32)        896       \n",
            "                                                                 \n",
            " batch_normalization (BatchN  (None, 48, 48, 32)       128       \n",
            " ormalization)                                                   \n",
            "                                                                 \n",
            " conv2d_1 (Conv2D)           (None, 48, 48, 32)        9248      \n",
            "                                                                 \n",
            " batch_normalization_1 (Batc  (None, 48, 48, 32)       128       \n",
            " hNormalization)                                                 \n",
            "                                                                 \n",
            " max_pooling2d (MaxPooling2D  (None, 24, 24, 32)       0         \n",
            " )                                                               \n",
            "                                                                 \n",
            " dropout (Dropout)           (None, 24, 24, 32)        0         \n",
            "                                                                 \n",
            " conv2d_2 (Conv2D)           (None, 24, 24, 64)        18496     \n",
            "                                                                 \n",
            " batch_normalization_2 (Batc  (None, 24, 24, 64)       256       \n",
            " hNormalization)                                                 \n",
            "                                                                 \n",
            " conv2d_3 (Conv2D)           (None, 24, 24, 64)        36928     \n",
            "                                                                 \n",
            " batch_normalization_3 (Batc  (None, 24, 24, 64)       256       \n",
            " hNormalization)                                                 \n",
            "                                                                 \n",
            " max_pooling2d_1 (MaxPooling  (None, 12, 12, 64)       0         \n",
            " 2D)                                                             \n",
            "                                                                 \n",
            " dropout_1 (Dropout)         (None, 12, 12, 64)        0         \n",
            "                                                                 \n",
            " conv2d_4 (Conv2D)           (None, 12, 12, 128)       73856     \n",
            "                                                                 \n",
            " batch_normalization_4 (Batc  (None, 12, 12, 128)      512       \n",
            " hNormalization)                                                 \n",
            "                                                                 \n",
            " conv2d_5 (Conv2D)           (None, 12, 12, 128)       147584    \n",
            "                                                                 \n",
            " batch_normalization_5 (Batc  (None, 12, 12, 128)      512       \n",
            " hNormalization)                                                 \n",
            "                                                                 \n",
            " max_pooling2d_2 (MaxPooling  (None, 6, 6, 128)        0         \n",
            " 2D)                                                             \n",
            "                                                                 \n",
            " dropout_2 (Dropout)         (None, 6, 6, 128)         0         \n",
            "                                                                 \n",
            " conv2d_6 (Conv2D)           (None, 6, 6, 256)         295168    \n",
            "                                                                 \n",
            " batch_normalization_6 (Batc  (None, 6, 6, 256)        1024      \n",
            " hNormalization)                                                 \n",
            "                                                                 \n",
            " conv2d_7 (Conv2D)           (None, 6, 6, 256)         590080    \n",
            "                                                                 \n",
            " batch_normalization_7 (Batc  (None, 6, 6, 256)        1024      \n",
            " hNormalization)                                                 \n",
            "                                                                 \n",
            " max_pooling2d_3 (MaxPooling  (None, 3, 3, 256)        0         \n",
            " 2D)                                                             \n",
            "                                                                 \n",
            " dropout_3 (Dropout)         (None, 3, 3, 256)         0         \n",
            "                                                                 \n",
            " flatten (Flatten)           (None, 2304)              0         \n",
            "                                                                 \n",
            " dense (Dense)               (None, 128)               295040    \n",
            "                                                                 \n",
            " batch_normalization_8 (Batc  (None, 128)              512       \n",
            " hNormalization)                                                 \n",
            "                                                                 \n",
            " dropout_4 (Dropout)         (None, 128)               0         \n",
            "                                                                 \n",
            " dense_1 (Dense)             (None, 64)                8256      \n",
            "                                                                 \n",
            " batch_normalization_9 (Batc  (None, 64)               256       \n",
            " hNormalization)                                                 \n",
            "                                                                 \n",
            " dropout_5 (Dropout)         (None, 64)                0         \n",
            "                                                                 \n",
            " dense_2 (Dense)             (None, 7)                 455       \n",
            "                                                                 \n",
            "=================================================================\n",
            "Total params: 1,480,615\n",
            "Trainable params: 1,478,311\n",
            "Non-trainable params: 2,304\n",
            "_________________________________________________________________\n",
            "None\n"
          ]
        }
      ]
    },
    {
      "cell_type": "code",
      "source": [
        "network.compile(optimizer='Adam', loss='categorical_crossentropy', metrics=['accuracy'])"
      ],
      "metadata": {
        "id": "JLCRi1uRnT_k"
      },
      "execution_count": null,
      "outputs": []
    },
    {
      "cell_type": "code",
      "source": [
        "epochs = 70\n",
        "\n",
        "network.fit(train_dataset, epochs=epochs)"
      ],
      "metadata": {
        "colab": {
          "base_uri": "https://localhost:8080/"
        },
        "id": "b88rQ8DwnY0w",
        "outputId": "9d495427-f066-4a98-c2e2-c3e4bb7ab47f"
      },
      "execution_count": null,
      "outputs": [
        {
          "output_type": "stream",
          "name": "stdout",
          "text": [
            "Epoch 1/70\n",
            " 517/1795 [=======>......................] - ETA: 7:46 - loss: 2.0647 - accuracy: 0.2043"
          ]
        }
      ]
    },
    {
      "cell_type": "code",
      "source": [
        "\n",
        "network.evaluate(test_dataset)"
      ],
      "metadata": {
        "id": "2BPpoefGnaXo"
      },
      "execution_count": null,
      "outputs": []
    },
    {
      "cell_type": "code",
      "source": [
        "\n",
        "preds = network.predict(test_dataset)\n",
        "preds"
      ],
      "metadata": {
        "id": "BRzT5q69nc81"
      },
      "execution_count": null,
      "outputs": []
    },
    {
      "cell_type": "code",
      "source": [
        "\n",
        "preds = np.argmax(preds, axis=1)\n",
        "preds\n"
      ],
      "metadata": {
        "id": "dfvT-TVOnfML"
      },
      "execution_count": null,
      "outputs": []
    },
    {
      "cell_type": "code",
      "source": [
        "test_dataset.classes"
      ],
      "metadata": {
        "id": "AeqB57DGnhnJ"
      },
      "execution_count": null,
      "outputs": []
    },
    {
      "cell_type": "code",
      "source": [
        "from sklearn.metrics import accuracy_score\n",
        "\n",
        "accuracy_score(test_dataset.classes, preds)\n"
      ],
      "metadata": {
        "id": "_czTDOGpnk8X"
      },
      "execution_count": null,
      "outputs": []
    },
    {
      "cell_type": "code",
      "source": [
        "\n",
        "test_dataset.class_indices"
      ],
      "metadata": {
        "id": "bsxieBQLnoj0"
      },
      "execution_count": null,
      "outputs": []
    },
    {
      "cell_type": "code",
      "source": [
        "import cv2\n",
        "from google.colab.patches import cv2_imshow\n",
        "\n",
        "image = cv2.imread('/content/drive/MyDrive/colab/Computer-Vision-Course/Data/Images/happy_face2.jpg')\n",
        "\n",
        "cv2_imshow(image)"
      ],
      "metadata": {
        "id": "nR6Kcfx2nqk7"
      },
      "execution_count": null,
      "outputs": []
    },
    {
      "cell_type": "code",
      "source": [
        "\n",
        "import dlib\n",
        "face_detector = dlib.cnn_face_detection_model_v1('/content/drive/MyDrive/colab/Computer-Vision-Course/Data/Weights/mmod_human_face_detector.dat')\n",
        "\n",
        "face_detection = face_detector(image, 1)\n",
        "face_detection"
      ],
      "metadata": {
        "id": "ZHvCH74fnuXK"
      },
      "execution_count": null,
      "outputs": []
    },
    {
      "cell_type": "code",
      "source": [
        "left, top, right, bottom = face_detection[0].rect.left(), face_detection[0].rect.top(), face_detection[0].rect.right(), face_detection[0].rect.bottom()\n",
        "\n",
        "roi = image[top:bottom, left:right]\n",
        "\n",
        "cv2_imshow(roi)\n"
      ],
      "metadata": {
        "id": "7BpPv5IWnu8S"
      },
      "execution_count": null,
      "outputs": []
    },
    {
      "cell_type": "code",
      "source": [
        "\n",
        "roi.shape"
      ],
      "metadata": {
        "id": "Id88_EFonxV2"
      },
      "execution_count": null,
      "outputs": []
    },
    {
      "cell_type": "code",
      "source": [
        "\n",
        "# Resize image\n",
        "roi = cv2.resize(roi, (48, 48))\n",
        "\n",
        "roi.shape\n"
      ],
      "metadata": {
        "id": "A3ThZBqPnzBY"
      },
      "execution_count": null,
      "outputs": []
    },
    {
      "cell_type": "code",
      "source": [
        "# Normalize\n",
        "roi = roi / 255"
      ],
      "metadata": {
        "id": "6YxvQR7wn1Ry"
      },
      "execution_count": null,
      "outputs": []
    },
    {
      "cell_type": "code",
      "source": [
        "\n",
        "roi = np.expand_dims(roi, axis=0)\n",
        "roi.shape"
      ],
      "metadata": {
        "id": "tjET6W1un3ME"
      },
      "execution_count": null,
      "outputs": []
    },
    {
      "cell_type": "code",
      "source": [
        "\n",
        "pred_probability = network.predict(roi)\n",
        "pred_probability\n"
      ],
      "metadata": {
        "id": "MpH7TDuun4z4"
      },
      "execution_count": null,
      "outputs": []
    },
    {
      "cell_type": "code",
      "source": [
        "\n",
        "pred = np.argmax(pred_probability)\n",
        "pred"
      ],
      "metadata": {
        "id": "f7XsU9G-n6iC"
      },
      "execution_count": null,
      "outputs": []
    }
  ]
}